{
 "cells": [
  {
   "cell_type": "code",
   "execution_count": 3,
   "metadata": {},
   "outputs": [],
   "source": [
    "from sklearn.naive_bayes import MultinomialNB\n",
    "import pandas as pd\n",
    "import numpy as np\n",
    "import re\n",
    "import itertools as it\n",
    "import nltk as nltk\n",
    "from nltk.corpus import stopwords\n",
    "from sklearn.feature_extraction.text import CountVectorizer\n",
    "from sklearn.model_selection import train_test_split\n",
    "from sklearn.naive_bayes import MultinomialNB\n",
    "from sklearn.metrics import classification_report,confusion_matrix\n",
    "from sklearn.metrics import accuracy_score\n",
    "# from wordcloud import WordCloud, ImageColorGenerator\n",
    "import matplotlib.pyplot as plt\n",
    "from sklearn.model_selection import GridSearchCV\n",
    "from sklearn import metrics\n",
    "from sklearn.metrics import classification_report, confusion_matrix, accuracy_score\n",
    "# import xgboost as xgb\n",
    "from sklearn.model_selection import KFold\n",
    "from sklearn.model_selection import cross_val_score"
   ]
  },
  {
   "cell_type": "code",
   "execution_count": 4,
   "metadata": {},
   "outputs": [],
   "source": [
    "df = pd.read_csv('reviews_hotels.csv')"
   ]
  },
  {
   "cell_type": "code",
   "execution_count": 4,
   "metadata": {},
   "outputs": [
    {
     "data": {
      "text/html": [
       "<div>\n",
       "<style scoped>\n",
       "    .dataframe tbody tr th:only-of-type {\n",
       "        vertical-align: middle;\n",
       "    }\n",
       "\n",
       "    .dataframe tbody tr th {\n",
       "        vertical-align: top;\n",
       "    }\n",
       "\n",
       "    .dataframe thead th {\n",
       "        text-align: right;\n",
       "    }\n",
       "</style>\n",
       "<table border=\"1\" class=\"dataframe\">\n",
       "  <thead>\n",
       "    <tr style=\"text-align: right;\">\n",
       "      <th></th>\n",
       "      <th>Unnamed: 0</th>\n",
       "      <th>hotel</th>\n",
       "      <th>commentaire</th>\n",
       "      <th>note</th>\n",
       "    </tr>\n",
       "  </thead>\n",
       "  <tbody>\n",
       "    <tr>\n",
       "      <th>0</th>\n",
       "      <td>0</td>\n",
       "      <td>Appi Hotel</td>\n",
       "      <td>Appi hôtel à éviter absolument. Chambre pas fa...</td>\n",
       "      <td>1</td>\n",
       "    </tr>\n",
       "    <tr>\n",
       "      <th>1</th>\n",
       "      <td>1</td>\n",
       "      <td>Appi Hotel</td>\n",
       "      <td>Horrible ne jamais y mettre les pieds...a bani...</td>\n",
       "      <td>1</td>\n",
       "    </tr>\n",
       "    <tr>\n",
       "      <th>2</th>\n",
       "      <td>2</td>\n",
       "      <td>Appi Hotel</td>\n",
       "      <td>Hotel bruyant, miteux qu'il faut fuir !!! Douc...</td>\n",
       "      <td>1</td>\n",
       "    </tr>\n",
       "    <tr>\n",
       "      <th>3</th>\n",
       "      <td>3</td>\n",
       "      <td>Appi Hotel</td>\n",
       "      <td>J’ai réservé plus de 4 mois à l’avance et lors...</td>\n",
       "      <td>1</td>\n",
       "    </tr>\n",
       "    <tr>\n",
       "      <th>4</th>\n",
       "      <td>4</td>\n",
       "      <td>Appi Hotel</td>\n",
       "      <td>Hôtel dont les chambres sont confortables et a...</td>\n",
       "      <td>0</td>\n",
       "    </tr>\n",
       "    <tr>\n",
       "      <th>...</th>\n",
       "      <td>...</td>\n",
       "      <td>...</td>\n",
       "      <td>...</td>\n",
       "      <td>...</td>\n",
       "    </tr>\n",
       "    <tr>\n",
       "      <th>53933</th>\n",
       "      <td>11136</td>\n",
       "      <td>Hotel_Relais_Bosquet_Paris</td>\n",
       "      <td>Nous avons adoré le Rancho Bernardo ! Après de...</td>\n",
       "      <td>0</td>\n",
       "    </tr>\n",
       "    <tr>\n",
       "      <th>53934</th>\n",
       "      <td>11137</td>\n",
       "      <td>Hotel_Relais_Bosquet_Paris</td>\n",
       "      <td>Mon mari et moi-même avons séjourné à l'hôtel ...</td>\n",
       "      <td>0</td>\n",
       "    </tr>\n",
       "    <tr>\n",
       "      <th>53935</th>\n",
       "      <td>11138</td>\n",
       "      <td>Hotel_Relais_Bosquet_Paris</td>\n",
       "      <td>Ma fille et moi-même rentrons de notre séjour ...</td>\n",
       "      <td>0</td>\n",
       "    </tr>\n",
       "    <tr>\n",
       "      <th>53936</th>\n",
       "      <td>11139</td>\n",
       "      <td>Hotel_Relais_Bosquet_Paris</td>\n",
       "      <td>Mon mari et moi avons séjourné dans cet hôtel ...</td>\n",
       "      <td>0</td>\n",
       "    </tr>\n",
       "    <tr>\n",
       "      <th>53937</th>\n",
       "      <td>11140</td>\n",
       "      <td>Hotel_Relais_Bosquet_Paris</td>\n",
       "      <td>Extraordinaire ! Je viens de passer 7 jours au...</td>\n",
       "      <td>0</td>\n",
       "    </tr>\n",
       "  </tbody>\n",
       "</table>\n",
       "<p>53938 rows × 4 columns</p>\n",
       "</div>"
      ],
      "text/plain": [
       "       Unnamed: 0                       hotel  \\\n",
       "0               0                  Appi Hotel   \n",
       "1               1                  Appi Hotel   \n",
       "2               2                  Appi Hotel   \n",
       "3               3                  Appi Hotel   \n",
       "4               4                  Appi Hotel   \n",
       "...           ...                         ...   \n",
       "53933       11136  Hotel_Relais_Bosquet_Paris   \n",
       "53934       11137  Hotel_Relais_Bosquet_Paris   \n",
       "53935       11138  Hotel_Relais_Bosquet_Paris   \n",
       "53936       11139  Hotel_Relais_Bosquet_Paris   \n",
       "53937       11140  Hotel_Relais_Bosquet_Paris   \n",
       "\n",
       "                                             commentaire  note  \n",
       "0      Appi hôtel à éviter absolument. Chambre pas fa...     1  \n",
       "1      Horrible ne jamais y mettre les pieds...a bani...     1  \n",
       "2      Hotel bruyant, miteux qu'il faut fuir !!! Douc...     1  \n",
       "3      J’ai réservé plus de 4 mois à l’avance et lors...     1  \n",
       "4      Hôtel dont les chambres sont confortables et a...     0  \n",
       "...                                                  ...   ...  \n",
       "53933  Nous avons adoré le Rancho Bernardo ! Après de...     0  \n",
       "53934  Mon mari et moi-même avons séjourné à l'hôtel ...     0  \n",
       "53935  Ma fille et moi-même rentrons de notre séjour ...     0  \n",
       "53936  Mon mari et moi avons séjourné dans cet hôtel ...     0  \n",
       "53937  Extraordinaire ! Je viens de passer 7 jours au...     0  \n",
       "\n",
       "[53938 rows x 4 columns]"
      ]
     },
     "execution_count": 4,
     "metadata": {},
     "output_type": "execute_result"
    }
   ],
   "source": [
    "df"
   ]
  },
  {
   "cell_type": "code",
   "execution_count": 5,
   "metadata": {},
   "outputs": [],
   "source": [
    "df = df.drop(['Unnamed: 0'], axis = 1)\n"
   ]
  },
  {
   "cell_type": "code",
   "execution_count": 6,
   "metadata": {},
   "outputs": [
    {
     "data": {
      "text/html": [
       "<div>\n",
       "<style scoped>\n",
       "    .dataframe tbody tr th:only-of-type {\n",
       "        vertical-align: middle;\n",
       "    }\n",
       "\n",
       "    .dataframe tbody tr th {\n",
       "        vertical-align: top;\n",
       "    }\n",
       "\n",
       "    .dataframe thead th {\n",
       "        text-align: right;\n",
       "    }\n",
       "</style>\n",
       "<table border=\"1\" class=\"dataframe\">\n",
       "  <thead>\n",
       "    <tr style=\"text-align: right;\">\n",
       "      <th></th>\n",
       "      <th>hotel</th>\n",
       "      <th>commentaire</th>\n",
       "      <th>note</th>\n",
       "    </tr>\n",
       "  </thead>\n",
       "  <tbody>\n",
       "    <tr>\n",
       "      <th>0</th>\n",
       "      <td>Appi Hotel</td>\n",
       "      <td>Appi hôtel à éviter absolument. Chambre pas fa...</td>\n",
       "      <td>1</td>\n",
       "    </tr>\n",
       "    <tr>\n",
       "      <th>1</th>\n",
       "      <td>Appi Hotel</td>\n",
       "      <td>Horrible ne jamais y mettre les pieds...a bani...</td>\n",
       "      <td>1</td>\n",
       "    </tr>\n",
       "    <tr>\n",
       "      <th>2</th>\n",
       "      <td>Appi Hotel</td>\n",
       "      <td>Hotel bruyant, miteux qu'il faut fuir !!! Douc...</td>\n",
       "      <td>1</td>\n",
       "    </tr>\n",
       "    <tr>\n",
       "      <th>3</th>\n",
       "      <td>Appi Hotel</td>\n",
       "      <td>J’ai réservé plus de 4 mois à l’avance et lors...</td>\n",
       "      <td>1</td>\n",
       "    </tr>\n",
       "    <tr>\n",
       "      <th>4</th>\n",
       "      <td>Appi Hotel</td>\n",
       "      <td>Hôtel dont les chambres sont confortables et a...</td>\n",
       "      <td>0</td>\n",
       "    </tr>\n",
       "    <tr>\n",
       "      <th>...</th>\n",
       "      <td>...</td>\n",
       "      <td>...</td>\n",
       "      <td>...</td>\n",
       "    </tr>\n",
       "    <tr>\n",
       "      <th>53933</th>\n",
       "      <td>Hotel_Relais_Bosquet_Paris</td>\n",
       "      <td>Nous avons adoré le Rancho Bernardo ! Après de...</td>\n",
       "      <td>0</td>\n",
       "    </tr>\n",
       "    <tr>\n",
       "      <th>53934</th>\n",
       "      <td>Hotel_Relais_Bosquet_Paris</td>\n",
       "      <td>Mon mari et moi-même avons séjourné à l'hôtel ...</td>\n",
       "      <td>0</td>\n",
       "    </tr>\n",
       "    <tr>\n",
       "      <th>53935</th>\n",
       "      <td>Hotel_Relais_Bosquet_Paris</td>\n",
       "      <td>Ma fille et moi-même rentrons de notre séjour ...</td>\n",
       "      <td>0</td>\n",
       "    </tr>\n",
       "    <tr>\n",
       "      <th>53936</th>\n",
       "      <td>Hotel_Relais_Bosquet_Paris</td>\n",
       "      <td>Mon mari et moi avons séjourné dans cet hôtel ...</td>\n",
       "      <td>0</td>\n",
       "    </tr>\n",
       "    <tr>\n",
       "      <th>53937</th>\n",
       "      <td>Hotel_Relais_Bosquet_Paris</td>\n",
       "      <td>Extraordinaire ! Je viens de passer 7 jours au...</td>\n",
       "      <td>0</td>\n",
       "    </tr>\n",
       "  </tbody>\n",
       "</table>\n",
       "<p>53938 rows × 3 columns</p>\n",
       "</div>"
      ],
      "text/plain": [
       "                            hotel  \\\n",
       "0                      Appi Hotel   \n",
       "1                      Appi Hotel   \n",
       "2                      Appi Hotel   \n",
       "3                      Appi Hotel   \n",
       "4                      Appi Hotel   \n",
       "...                           ...   \n",
       "53933  Hotel_Relais_Bosquet_Paris   \n",
       "53934  Hotel_Relais_Bosquet_Paris   \n",
       "53935  Hotel_Relais_Bosquet_Paris   \n",
       "53936  Hotel_Relais_Bosquet_Paris   \n",
       "53937  Hotel_Relais_Bosquet_Paris   \n",
       "\n",
       "                                             commentaire  note  \n",
       "0      Appi hôtel à éviter absolument. Chambre pas fa...     1  \n",
       "1      Horrible ne jamais y mettre les pieds...a bani...     1  \n",
       "2      Hotel bruyant, miteux qu'il faut fuir !!! Douc...     1  \n",
       "3      J’ai réservé plus de 4 mois à l’avance et lors...     1  \n",
       "4      Hôtel dont les chambres sont confortables et a...     0  \n",
       "...                                                  ...   ...  \n",
       "53933  Nous avons adoré le Rancho Bernardo ! Après de...     0  \n",
       "53934  Mon mari et moi-même avons séjourné à l'hôtel ...     0  \n",
       "53935  Ma fille et moi-même rentrons de notre séjour ...     0  \n",
       "53936  Mon mari et moi avons séjourné dans cet hôtel ...     0  \n",
       "53937  Extraordinaire ! Je viens de passer 7 jours au...     0  \n",
       "\n",
       "[53938 rows x 3 columns]"
      ]
     },
     "execution_count": 6,
     "metadata": {},
     "output_type": "execute_result"
    }
   ],
   "source": [
    "df"
   ]
  },
  {
   "cell_type": "code",
   "execution_count": 6,
   "metadata": {},
   "outputs": [],
   "source": [
    "def com_preproc(commentaires):\n",
    "    ponctuations = '''!()-[]{};:'\"\\,./?@#$%^&@*_~'''\n",
    "    pas_de_ponc = \"\"\n",
    "    for carac in commentaires:\n",
    "        if carac not in ponctuations:\n",
    "            pas_de_ponc = pas_de_ponc + carac\n",
    "    mots = stopwords.words('french')\n",
    "    comm_nettoyés = \"\"\n",
    "    for mot in pas_de_ponc.split():\n",
    "        if mot not in mots:\n",
    "            comm_nettoyés = comm_nettoyés + ' ' + mot\n",
    "    return comm_nettoyés    "
   ]
  },
  {
   "cell_type": "code",
   "execution_count": 7,
   "metadata": {},
   "outputs": [],
   "source": [
    "df[\"commentaire\"] = df[\"commentaire\"].apply(com_preproc)"
   ]
  },
  {
   "cell_type": "code",
   "execution_count": 8,
   "metadata": {},
   "outputs": [
    {
     "data": {
      "text/plain": [
       "0    40250\n",
       "1    13688\n",
       "Name: note, dtype: int64"
      ]
     },
     "execution_count": 8,
     "metadata": {},
     "output_type": "execute_result"
    }
   ],
   "source": [
    "\n",
    "nombre_évaluation = df[\"note\"].value_counts()\n",
    "nombre_évaluation"
   ]
  },
  {
   "cell_type": "code",
   "execution_count": 9,
   "metadata": {},
   "outputs": [],
   "source": [
    "messages_bow = CountVectorizer(analyzer=com_preproc).fit_transform(df['commentaire'])"
   ]
  },
  {
   "cell_type": "code",
   "execution_count": 10,
   "metadata": {},
   "outputs": [
    {
     "name": "stdout",
     "output_type": "stream",
     "text": [
      "Il y a 18022532 de mots dans les commentaires pris.\n"
     ]
    }
   ],
   "source": [
    "text = \" \".join(commentaires for commentaires in df.commentaire)\n",
    "print (\"Il y a {} de mots dans les commentaires pris.\".format(len(text)))"
   ]
  },
  {
   "cell_type": "code",
   "execution_count": 11,
   "metadata": {},
   "outputs": [],
   "source": [
    "X_train, X_test, y_train, y_test = train_test_split(messages_bow, df['note'], test_size = 0.20, random_state = 0)"
   ]
  },
  {
   "cell_type": "code",
   "execution_count": 12,
   "metadata": {},
   "outputs": [
    {
     "data": {
      "text/plain": [
       "MultinomialNB(alpha=1.0, class_prior=None, fit_prior=True)"
      ]
     },
     "execution_count": 12,
     "metadata": {},
     "output_type": "execute_result"
    }
   ],
   "source": [
    "multiNB = MultinomialNB()\n",
    "multiNB.fit(X_train, y_train)"
   ]
  },
  {
   "cell_type": "code",
   "execution_count": 13,
   "metadata": {},
   "outputs": [
    {
     "name": "stdout",
     "output_type": "stream",
     "text": [
      "[0 1 0 ... 1 0 0]\n",
      "[0 0 0 ... 1 0 0]\n"
     ]
    }
   ],
   "source": [
    "#Print the predictions\n",
    "print(multiNB.predict(X_train))#Print the actual values\n",
    "print(y_train.values)"
   ]
  },
  {
   "cell_type": "code",
   "execution_count": 14,
   "metadata": {},
   "outputs": [
    {
     "name": "stdout",
     "output_type": "stream",
     "text": [
      "valeurs prédites:  [1 1 0 ... 1 0 0]\n",
      "------------------------------------------------------------------------------------\n",
      "réelles valeurs:  [1 1 0 ... 1 0 0]\n"
     ]
    }
   ],
   "source": [
    "#Print the predictions\n",
    "print('valeurs prédites: ',multiNB.predict(X_test))#Print Actual Label\n",
    "print('------------------------------------------------------------------------------------')\n",
    "print('réelles valeurs: ',y_test.values)"
   ]
  },
  {
   "cell_type": "code",
   "execution_count": 15,
   "metadata": {},
   "outputs": [
    {
     "name": "stdout",
     "output_type": "stream",
     "text": [
      "0.7427697441601779\n"
     ]
    }
   ],
   "source": [
    "import pickle\n",
    "# save the model to disk\n",
    "filename = 'finalized_model.pkl'\n",
    "pickle.dump(multiNB, open(filename, 'wb'))\n",
    " \n",
    "# some time later...\n",
    " \n",
    "# load the model from disk\n",
    "loaded_model = pickle.load(open(filename, 'rb'))\n",
    "result = loaded_model.score(X_test, y_test)\n",
    "print(result)"
   ]
  },
  {
   "cell_type": "code",
   "execution_count": 16,
   "metadata": {},
   "outputs": [
    {
     "name": "stdout",
     "output_type": "stream",
     "text": [
      "              precision    recall  f1-score   support\n",
      "\n",
      "           0       0.80      0.87      0.84      8034\n",
      "           1       0.49      0.36      0.41      2754\n",
      "\n",
      "    accuracy                           0.74     10788\n",
      "   macro avg       0.65      0.62      0.63     10788\n",
      "weighted avg       0.72      0.74      0.73     10788\n",
      "\n",
      "--------------------------------------\n",
      "Confusion Matrix: \n",
      " [[7029 1005]\n",
      " [1770  984]]\n",
      "-------------------------------------\n",
      "Accuracy:  0.7427697441601779\n"
     ]
    }
   ],
   "source": [
    "accuracy_score\n",
    "pred = multiNB.predict(X_test)\n",
    "print(classification_report(y_test ,pred ))\n",
    "print('--------------------------------------')\n",
    "print('Confusion Matrix: \\n', confusion_matrix(y_test,pred))\n",
    "print('-------------------------------------')\n",
    "print('Accuracy: ', accuracy_score(y_test,pred))"
   ]
  },
  {
   "cell_type": "code",
   "execution_count": null,
   "metadata": {},
   "outputs": [],
   "source": []
  }
 ],
 "metadata": {
  "kernelspec": {
   "display_name": "Python 3",
   "language": "python",
   "name": "python3"
  },
  "language_info": {
   "codemirror_mode": {
    "name": "ipython",
    "version": 3
   },
   "file_extension": ".py",
   "mimetype": "text/x-python",
   "name": "python",
   "nbconvert_exporter": "python",
   "pygments_lexer": "ipython3",
   "version": "3.7.6"
  }
 },
 "nbformat": 4,
 "nbformat_minor": 4
}
